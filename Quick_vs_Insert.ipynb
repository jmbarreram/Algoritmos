{
 "cells": [
  {
   "cell_type": "code",
   "execution_count": 77,
   "metadata": {
    "collapsed": true
   },
   "outputs": [],
   "source": [
    "import math\n",
    "import numpy as np\n",
    "import pylab as pl\n",
    "from __future__ import unicode_literals\n",
    "%matplotlib inline"
   ]
  },
  {
   "cell_type": "code",
   "execution_count": 78,
   "metadata": {
    "collapsed": true
   },
   "outputs": [],
   "source": [
    "class Counter:\n",
    "    '''\n",
    "    Class Counter\n",
    "    Implements a step counter, which is used to compute the number of basic operations performed in\n",
    "    a particular call to a function.\n",
    "    '''\n",
    "    def __init__(self):\n",
    "        self.steps = 0\n",
    "\n",
    "    def reset(self):\n",
    "        self.steps = 0\n",
    "\n",
    "    def count(self):\n",
    "        self.steps += 1\n",
    "\n",
    "    def print_steps(self):\n",
    "        print \"Number of steps =\", self.steps"
   ]
  },
  {
   "cell_type": "code",
   "execution_count": 79,
   "metadata": {
    "collapsed": true
   },
   "outputs": [],
   "source": [
    "def acct_insertion_sort(A, acct):\n",
    "    j = 1; acct.count()\n",
    "    acct.count()\n",
    "    while j < len(A):\n",
    "        acct.count()\n",
    "        key = A[j]; acct.count()\n",
    "        i = j - 1; acct.count()\n",
    "        acct.count()\n",
    "        while (i >= 0) and (A[i] > key):\n",
    "            acct.count()\n",
    "            A[i + 1] = A[i]; acct.count()\n",
    "            i = i -1; acct.count()\n",
    "        A[i + 1] = key; acct.count()\n",
    "        j = j + 1; acct.count()"
   ]
  },
  {
   "cell_type": "code",
   "execution_count": 80,
   "metadata": {
    "collapsed": true
   },
   "outputs": [],
   "source": [
    "def acct_qs(alist, acct):\n",
    "    comp = [0]\n",
    "    quickSortHelper(alist,0,len(alist)-1,comp,acct)"
   ]
  },
  {
   "cell_type": "code",
   "execution_count": 81,
   "metadata": {
    "collapsed": true
   },
   "outputs": [],
   "source": [
    "def quickSortHelper(alist,first,last,comp,acct):\n",
    "    acct.count()\n",
    "    if first<last:\n",
    "        r = partition(alist,first,last,acct); acct.count()\n",
    "        splitpoint = r[0]; acct.count()\n",
    "        tmp = comp.pop(); acct.count()\n",
    "        comp.append(tmp+r[1]); acct.count()\n",
    "        \n",
    "        quickSortHelper(alist,first,splitpoint-1,comp,acct); acct.count()\n",
    "        quickSortHelper(alist,splitpoint+1,last,comp,acct); acct.count()"
   ]
  },
  {
   "cell_type": "code",
   "execution_count": 82,
   "metadata": {
    "collapsed": true
   },
   "outputs": [],
   "source": [
    "def partition(alist,first,last,acct):\n",
    "    pivotvalue = alist[first]; acct.count()\n",
    "    compspart = 0; acct.count()\n",
    "    \n",
    "    leftmark = first+1; acct.count()\n",
    "    rightmark = last; acct.count()\n",
    "    \n",
    "    done = False; acct.count()\n",
    "    acct.count()\n",
    "    while not done:\n",
    "        acct.count()\n",
    "        acct.count()\n",
    "        while leftmark <= rightmark and alist[leftmark] <= pivotvalue:\n",
    "            acct.count()\n",
    "            leftmark = leftmark + 1; acct.count()\n",
    "            compspart = compspart + 1; acct.count()\n",
    "            acct.count()\n",
    "        while alist[rightmark] >= pivotvalue and rightmark >= leftmark:\n",
    "            acct.count()\n",
    "            rightmark = rightmark -1; acct.count()\n",
    "            compspart = compspart + 1; acct.count()\n",
    "        acct.count()\n",
    "        if rightmark < leftmark:\n",
    "            acct.count()\n",
    "            done = True\n",
    "        else:\n",
    "            acct.count()\n",
    "            temp = alist[leftmark]; acct.count()\n",
    "            alist[leftmark] = alist[rightmark]; acct.count()\n",
    "            alist[rightmark] = temp; acct.count()\n",
    "    \n",
    "    temp = alist[first]; acct.count()\n",
    "    alist[first] = alist[rightmark]; acct.count()\n",
    "    alist[rightmark] = temp; acct.count()\n",
    "    acct.count()\n",
    "    return rightmark,compspart"
   ]
  },
  {
   "cell_type": "code",
   "execution_count": 83,
   "metadata": {
    "collapsed": true
   },
   "outputs": [],
   "source": [
    "import random as rnd\n",
    "\n",
    "def exper_analysis(n):\n",
    "    results = []\n",
    "    acct = Counter()\n",
    "    for i in range(n):\n",
    "        l = range(i)\n",
    "        rnd.shuffle(l)\n",
    "        acct.reset()\n",
    "        acct_insertion_sort(l, acct)\n",
    "        results.append(acct.steps)\n",
    "    return results"
   ]
  },
  {
   "cell_type": "code",
   "execution_count": 84,
   "metadata": {
    "collapsed": true
   },
   "outputs": [],
   "source": [
    "def exper_analysis_qs(n):\n",
    "    results = []\n",
    "    acct = Counter()\n",
    "    for i in range(n):\n",
    "        l = range(i)\n",
    "        rnd.shuffle(l)\n",
    "        acct.reset()\n",
    "        acct_qs(l, acct)\n",
    "        results.append(acct.steps)\n",
    "    return results"
   ]
  },
  {
   "cell_type": "code",
   "execution_count": 85,
   "metadata": {
    "collapsed": false
   },
   "outputs": [
    {
     "data": {
      "image/png": "[encoded data removed]",
      "text/plain": [
       "<matplotlib.figure.Figure at 0xac36748>"
      ]
     },
     "metadata": {},
     "output_type": "display_data"
    }
   ],
   "source": [
    "acct = Counter()\n",
    "pl.clf()\n",
    "i = 0\n",
    "while i < 30:\n",
    "    x = np.arange(60)\n",
    "    y = np.array(exper_analysis(60))\n",
    "    pl.plot(x, y, 'bs')\n",
    "    i = i+1\n",
    "i = 0\n",
    "while i < 30:\n",
    "    x = np.arange(60)\n",
    "    y = np.array(exper_analysis_qs(60))\n",
    "    pl.plot(x,y, 'g^')\n",
    "    i = i+1"
   ]
  },
  {
   "cell_type": "code",
   "execution_count": null,
   "metadata": {
    "collapsed": true
   },
   "outputs": [],
   "source": []
  }
 ],
 "metadata": {
  "kernelspec": {
   "display_name": "Python 2",
   "language": "python",
   "name": "python2"
  },
  "language_info": {
   "codemirror_mode": {
    "name": "ipython",
    "version": 2
   },
   "file_extension": ".py",
   "mimetype": "text/x-python",
   "name": "python",
   "nbconvert_exporter": "python",
   "pygments_lexer": "ipython2",
   "version": "2.7.10"
  }
 },
 "nbformat": 4,
 "nbformat_minor": 0
}
